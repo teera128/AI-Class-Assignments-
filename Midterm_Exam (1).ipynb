{
  "nbformat": 4,
  "nbformat_minor": 0,
  "metadata": {
    "colab": {
      "provenance": [],
      "toc_visible": true
    },
    "kernelspec": {
      "name": "python3",
      "display_name": "Python 3"
    },
    "language_info": {
      "name": "python"
    }
  },
  "cells": [
    {
      "cell_type": "code",
      "execution_count": null,
      "metadata": {
        "id": "dLU-UuKwSqMo"
      },
      "outputs": [],
      "source": []
    },
    {
      "cell_type": "markdown",
      "source": [
        "#สอบกลางภาค (ปฏิบัติ)"
      ],
      "metadata": {
        "id": "9uk0UeWpSq8r"
      }
    },
    {
      "cell_type": "markdown",
      "source": [
        "##ข้อที่ 1 แสดง Tree Traversal ด้วย Breadth First Search"
      ],
      "metadata": {
        "id": "PYo26_O6S0Li"
      }
    },
    {
      "cell_type": "code",
      "source": [
        "class Search_problem(object):\n",
        "    \"\"\"A search problem consists of:\n",
        "    * a start node\n",
        "    * a neighbors function that gives the neighbors of a node\n",
        "    * a specification of a goal\n",
        "    * a (optional) heuristic function.\n",
        "    The methods must be overridden to define a search problem.\"\"\"\n",
        "\n",
        "    def start_node(self):\n",
        "        \"\"\"returns start node\"\"\"\n",
        "        raise NotImplementedError(\"start_node\")   # abstract method\n",
        "\n",
        "    def is_goal(self,node):\n",
        "        \"\"\"is True if node is a goal\"\"\"\n",
        "        raise NotImplementedError(\"is_goal\")   # abstract method\n",
        "\n",
        "    def neighbors(self,node):\n",
        "        \"\"\"returns a list of the arcs for the neighbors of node\"\"\"\n",
        "        raise NotImplementedError(\"neighbors\")   # abstract method\n",
        "\n",
        "    def heuristic(self,n):\n",
        "        \"\"\"Gives the heuristic value of node n.\n",
        "        Returns 0 if not overridden.\"\"\"\n",
        "        return 0"
      ],
      "metadata": {
        "id": "Q9tUTjYfVcCn"
      },
      "execution_count": null,
      "outputs": []
    },
    {
      "cell_type": "code",
      "source": [
        "class Arc(object):\n",
        "    \"\"\"An arc has a from_node and a to_node node and a (non-negative) cost\"\"\"\n",
        "    def __init__(self, from_node, to_node, cost=1, action=None):\n",
        "        assert cost >= 0, (\"Cost cannot be negative for\"+\n",
        "                           str(from_node)+\"->\"+str(to_node)+\", cost: \"+str(cost))\n",
        "        self.from_node = from_node\n",
        "        self.to_node = to_node\n",
        "        self.action = action\n",
        "        self.cost=cost\n",
        "\n",
        "    def __repr__(self):\n",
        "        \"\"\"string representation of an arc\"\"\"\n",
        "        if self.action:\n",
        "            return str(self.from_node)+\" --\"+str(self.action)+\"--> \"+str(self.to_node)\n",
        "        else:\n",
        "            return str(self.from_node)+\" --> \"+str(self.to_node)"
      ],
      "metadata": {
        "id": "vyWCkTy8VdLa"
      },
      "execution_count": null,
      "outputs": []
    },
    {
      "cell_type": "code",
      "source": [
        "class Search_problem_from_explicit_graph(Search_problem):\n",
        "    \"\"\"A search problem consists of:\n",
        "    * a list or set of nodes\n",
        "    * a list or set of arcs\n",
        "    * a start node\n",
        "    * a list or set of goal nodes\n",
        "    * a dictionary that maps each node into its heuristic value.\n",
        "    \"\"\"\n",
        "\n",
        "    def __init__(self, nodes, arcs, start=None, goals=set(), hmap={}):\n",
        "        self.neighs = {}\n",
        "        self.nodes = nodes\n",
        "        for node in nodes:\n",
        "            self.neighs[node]=[]\n",
        "        self.arcs = arcs\n",
        "        for arc in arcs:\n",
        "            self.neighs[arc.from_node].append(arc)\n",
        "        self.start = start\n",
        "        self.goals = goals\n",
        "        self.hmap = hmap\n",
        "\n",
        "    def start_node(self):\n",
        "        \"\"\"returns start node\"\"\"\n",
        "        return self.start\n",
        "\n",
        "    def is_goal(self,node):\n",
        "        \"\"\"is True if node is a goal\"\"\"\n",
        "        return node in self.goals\n",
        "\n",
        "    def neighbors(self,node):\n",
        "        \"\"\"returns the neighbors of node\"\"\"\n",
        "        return self.neighs[node]\n",
        "\n",
        "    def heuristic(self,node):\n",
        "        \"\"\"Gives the heuristic value of node n.\n",
        "        Returns 0 if not overridden in the hmap.\"\"\"\n",
        "        if node in self.hmap:\n",
        "            return self.hmap[node]\n",
        "        else:\n",
        "            return 0\n",
        "\n",
        "    def __repr__(self):\n",
        "        \"\"\"returns a string representation of the search problem\"\"\"\n",
        "        res=\"\"\n",
        "        for arc in self.arcs:\n",
        "            res += str(arc)+\".  \"\n",
        "        return res\n",
        "\n",
        "    def neighbor_nodes(self,node):\n",
        "        \"\"\"returns an iterator over the neighbors of node\"\"\"\n",
        "        return (path.to_node for path in self.neighs[node])"
      ],
      "metadata": {
        "id": "_9F7SjU8Vbdt"
      },
      "execution_count": null,
      "outputs": []
    },
    {
      "cell_type": "code",
      "source": [
        "class Path(object):\n",
        "    \"\"\"A path is either a node or a path followed by an arc\"\"\"\n",
        "\n",
        "    def __init__(self,initial,arc=None):\n",
        "        \"\"\"initial is either a node (in which case arc is None) or\n",
        "        a path (in which case arc is an object of type Arc)\"\"\"\n",
        "        self.initial = initial\n",
        "        self.arc=arc\n",
        "        if arc is None:\n",
        "            self.cost=0\n",
        "        else:\n",
        "            self.cost = initial.cost+arc.cost\n",
        "\n",
        "    def end(self):\n",
        "        \"\"\"returns the node at the end of the path\"\"\"\n",
        "        if self.arc is None:\n",
        "            return self.initial\n",
        "        else:\n",
        "            return self.arc.to_node\n",
        "\n",
        "    def nodes(self):\n",
        "        \"\"\"enumerates the nodes for the path.\n",
        "        This starts at the end and enumerates nodes in the path backwards.\"\"\"\n",
        "        current = self\n",
        "        while current.arc is not None:\n",
        "            yield current.arc.to_node\n",
        "            current = current.initial\n",
        "        yield current.initial\n",
        "\n",
        "    def initial_nodes(self):\n",
        "        \"\"\"enumerates the nodes for the path before the end node.\n",
        "        This starts at the end and enumerates nodes in the path backwards.\"\"\"\n",
        "        if self.arc is not None:\n",
        "            for nd in self.initial.nodes(): yield nd     # could be \"yield from\"\n",
        "\n",
        "    def __repr__(self):\n",
        "        \"\"\"returns a string representation of a path\"\"\"\n",
        "        if self.arc is None:\n",
        "            return str(self.initial)\n",
        "        elif self.arc.action:\n",
        "            return (str(self.initial)+\"\\n   --\"+str(self.arc.action)\n",
        "                    +\"--> \"+str(self.arc.to_node))\n",
        "        else:\n",
        "            return str(self.initial)+\" --> \"+str(self.arc.to_node)"
      ],
      "metadata": {
        "id": "DRoy4kGEVoK9"
      },
      "execution_count": null,
      "outputs": []
    },
    {
      "cell_type": "code",
      "source": [
        "class Displayable(object):\n",
        "    \"\"\"Class that uses 'display'.\n",
        "    The amount of detail is controlled by max_display_level\n",
        "    \"\"\"\n",
        "    max_display_level = 1   # can be overridden in subclasses\n",
        "\n",
        "    def display(self,level,*args,**nargs):\n",
        "        \"\"\"print the arguments if level is less than or equal to the\n",
        "        current max_display_level.\n",
        "        level is an integer.\n",
        "        the other arguments are whatever arguments print can take.\n",
        "        \"\"\"\n",
        "        if level <= self.max_display_level:\n",
        "            print(*args, **nargs)  ##if error you are using Python2 not Python3\n",
        "\n",
        "def visualize(func):\n",
        "    \"\"\"A decorator for algorithms that do interactive visualization.\n",
        "    Ignored here.\n",
        "    \"\"\"\n",
        "    return func"
      ],
      "metadata": {
        "id": "dnqMwYWHVruN"
      },
      "execution_count": null,
      "outputs": []
    },
    {
      "cell_type": "code",
      "source": [
        "import heapq        # part of the Python standard library\n",
        "\n",
        "class FrontierPQ(object):\n",
        "    \"\"\"A frontier consists of a priority queue (heap), frontierpq, of\n",
        "        (value, index, path) triples, where\n",
        "    * value is the value we want to minimize (e.g., path cost + h).\n",
        "    * index is a unique index for each element\n",
        "    * path is the path on the queue\n",
        "    Note that the priority queue always returns the smallest element.\n",
        "    \"\"\"\n",
        "\n",
        "    def __init__(self):\n",
        "        \"\"\"constructs the frontier, initially an empty priority queue\n",
        "        \"\"\"\n",
        "        self.frontier_index = 0  # the number of items ever added to the frontier\n",
        "        self.frontierpq = []  # the frontier priority queue\n",
        "\n",
        "    def empty(self):\n",
        "        \"\"\"is True if the priority queue is empty\"\"\"\n",
        "        return self.frontierpq == []\n",
        "\n",
        "    def add(self, path, value):\n",
        "        \"\"\"add a path to the priority queue\n",
        "        value is the value to be minimized\"\"\"\n",
        "        self.frontier_index += 1    # get a new unique index\n",
        "        heapq.heappush(self.frontierpq,(value, -self.frontier_index, path))\n",
        "\n",
        "    def pop(self):\n",
        "        \"\"\"returns and removes the path of the frontier with minimum value.\n",
        "        \"\"\"\n",
        "        (_,_,path) = heapq.heappop(self.frontierpq)\n",
        "        return path\n",
        "\n",
        "    def count(self,val):\n",
        "        \"\"\"returns the number of elements of the frontier with value=val\"\"\"\n",
        "        return sum(1 for e in self.frontierpq if e[0]==val)\n",
        "\n",
        "    def __repr__(self):\n",
        "        \"\"\"string representation of the frontier\"\"\"\n",
        "        return str([(n,c,str(p)) for (n,c,p) in self.frontierpq])\n",
        "\n",
        "    def __len__(self):\n",
        "        \"\"\"length of the frontier\"\"\"\n",
        "        return len(self.frontierpq)\n",
        "\n",
        "    def __iter__(self):\n",
        "        \"\"\"iterate through the paths in the frontier\"\"\"\n",
        "        for (_,_,path) in self.frontierpq:\n",
        "            yield path"
      ],
      "metadata": {
        "id": "4dxYjL29Vs-R"
      },
      "execution_count": null,
      "outputs": []
    },
    {
      "cell_type": "code",
      "source": [
        "problem1 = Search_problem_from_explicit_graph(\n",
        "    {'A','B','C','D','G'},\n",
        "    [Arc('A','B',3), Arc('A','C',1), Arc('B','D',1), Arc('B','G',3),\n",
        "        Arc('C','B',1), Arc('C','D',3), Arc('D','G',1)],\n",
        "    start = 'A',\n",
        "    goals = {'G'})"
      ],
      "metadata": {
        "id": "s7H-BC-TUUDm"
      },
      "execution_count": null,
      "outputs": []
    },
    {
      "cell_type": "markdown",
      "source": [
        "###คำตอบ"
      ],
      "metadata": {
        "id": "7TbXSx8haCXl"
      }
    },
    {
      "cell_type": "code",
      "source": [
        "problem1"
      ],
      "metadata": {
        "colab": {
          "base_uri": "https://localhost:8080/"
        },
        "id": "rtxMeIbxV53J",
        "outputId": "06594fb6-6417-4780-cabb-8d5d925404d3"
      },
      "execution_count": null,
      "outputs": [
        {
          "output_type": "execute_result",
          "data": {
            "text/plain": [
              "A --> B.  A --> C.  B --> D.  B --> G.  C --> B.  C --> D.  D --> G.  "
            ]
          },
          "metadata": {},
          "execution_count": 12
        }
      ]
    },
    {
      "cell_type": "markdown",
      "source": [
        "##ข้อที่ 2 แสดง Solution ด้วย Depth First Search"
      ],
      "metadata": {
        "id": "rDnFGq4yTYDl"
      }
    },
    {
      "cell_type": "code",
      "source": [
        "class Searcher(Displayable):\n",
        "    \"\"\"returns a searcher for a problem.\n",
        "    Paths can be found by repeatedly calling search().\n",
        "    This does depth-first search unless overridden\n",
        "    \"\"\"\n",
        "    def __init__(self, problem):\n",
        "        \"\"\"creates a searcher from a problem\n",
        "        \"\"\"\n",
        "        self.problem = problem\n",
        "        self.initialize_frontier()\n",
        "        self.num_expanded = 0\n",
        "        self.add_to_frontier(Path(problem.start_node()))\n",
        "        super().__init__()\n",
        "\n",
        "    def initialize_frontier(self):\n",
        "        self.frontier = []\n",
        "\n",
        "    def empty_frontier(self):\n",
        "        return self.frontier == []\n",
        "\n",
        "    def add_to_frontier(self,path):\n",
        "        self.frontier.append(path)\n",
        "\n",
        "    @visualize\n",
        "    def search(self):\n",
        "        \"\"\"returns (next) path from the problem's start node\n",
        "        to a goal node.\n",
        "        Returns None if no path exists.\n",
        "        \"\"\"\n",
        "        while not self.empty_frontier():\n",
        "            path = self.frontier.pop()\n",
        "            self.display(2, \"Expanding:\",path,\"(cost:\",path.cost,\")\")\n",
        "            self.num_expanded += 1\n",
        "            if self.problem.is_goal(path.end()):    # solution found\n",
        "                self.display(1, self.num_expanded, \"paths have been expanded and\",\n",
        "                            len(self.frontier), \"paths remain in the frontier\")\n",
        "                self.solution = path   # store the solution found\n",
        "                return path\n",
        "            else:\n",
        "                neighs = self.problem.neighbors(path.end())\n",
        "                self.display(3,\"Neighbors are\", neighs)\n",
        "                for arc in reversed(neighs):\n",
        "                    self.add_to_frontier(Path(path,arc))\n",
        "                self.display(3,\"Frontier:\",self.frontier)\n",
        "        self.display(1,\"No (more) solutions. Total of\",\n",
        "                     self.num_expanded,\"paths expanded.\")"
      ],
      "metadata": {
        "id": "AL_BtdQGZEpQ"
      },
      "execution_count": null,
      "outputs": []
    },
    {
      "cell_type": "code",
      "source": [
        "def test(SearchClass):\n",
        "    print(\"Testing problem 1:\")\n",
        "    schr1 = SearchClass(problem1)\n",
        "    path1 = schr1.search()\n",
        "    print(\"Path found:\",path1)\n",
        "    print(\"Passed unit test\")"
      ],
      "metadata": {
        "id": "w8aDlKfhZHGv"
      },
      "execution_count": null,
      "outputs": []
    },
    {
      "cell_type": "markdown",
      "source": [
        "###คำตอบ"
      ],
      "metadata": {
        "id": "HcGtAmILZSMy"
      }
    },
    {
      "cell_type": "code",
      "source": [
        "test(Searcher)"
      ],
      "metadata": {
        "colab": {
          "base_uri": "https://localhost:8080/"
        },
        "id": "mCwrEIEKZMCA",
        "outputId": "9c7f3099-22ba-4024-8ed0-c809079506a9"
      },
      "execution_count": null,
      "outputs": [
        {
          "output_type": "stream",
          "name": "stdout",
          "text": [
            "Testing problem 1:\n",
            "4 paths have been expanded and 2 paths remain in the frontier\n",
            "Path found: A --> B --> D --> G\n",
            "Passed unit test\n"
          ]
        }
      ]
    },
    {
      "cell_type": "markdown",
      "source": [
        "##ข้อที่ 3 แสดง Solution ด้วย A* Search"
      ],
      "metadata": {
        "id": "QV1uz9ibTkd-"
      }
    },
    {
      "cell_type": "code",
      "source": [
        "class AStarSearcher(Searcher):\n",
        "    \"\"\"returns a searcher for a problem.\n",
        "    Paths can be found by repeatedly calling search().\n",
        "    \"\"\"\n",
        "\n",
        "    def __init__(self, problem):\n",
        "        super().__init__(problem)\n",
        "\n",
        "    def initialize_frontier(self):\n",
        "        self.frontier = FrontierPQ()\n",
        "\n",
        "    def empty_frontier(self):\n",
        "        return self.frontier.empty()\n",
        "\n",
        "    def add_to_frontier(self,path):\n",
        "        \"\"\"add path to the frontier with the appropriate cost\"\"\"\n",
        "        value = path.cost+self.problem.heuristic(path.end())\n",
        "        self.frontier.add(path, value)"
      ],
      "metadata": {
        "id": "3ZdyDz55ZhmU"
      },
      "execution_count": null,
      "outputs": []
    },
    {
      "cell_type": "code",
      "source": [
        "def test(SearchClass):\n",
        "    print(\"Testing problem 1:\")\n",
        "    schr1 = SearchClass(problem1)\n",
        "    path1 = schr1.search()\n",
        "    print(\"Path found:\",path1)\n",
        "    print(\"Passed unit test\")"
      ],
      "metadata": {
        "id": "9eVDQKhmZkL3"
      },
      "execution_count": null,
      "outputs": []
    },
    {
      "cell_type": "markdown",
      "source": [
        "###คำตอบ"
      ],
      "metadata": {
        "id": "UQoa-o5iZ-yw"
      }
    },
    {
      "cell_type": "code",
      "source": [
        "test(AStarSearcher)"
      ],
      "metadata": {
        "colab": {
          "base_uri": "https://localhost:8080/"
        },
        "id": "t3s4W_vPZnW4",
        "outputId": "a9dc08bf-6c5c-4ee8-a537-cd788029b13b"
      },
      "execution_count": null,
      "outputs": [
        {
          "output_type": "stream",
          "name": "stdout",
          "text": [
            "Testing problem 1:\n",
            "7 paths have been expanded and 4 paths remain in the frontier\n",
            "Path found: A --> C --> B --> D --> G\n",
            "Passed unit test\n"
          ]
        }
      ]
    }
  ]
}